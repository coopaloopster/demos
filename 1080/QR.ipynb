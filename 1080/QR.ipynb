{
 "cells": [
  {
   "cell_type": "code",
   "execution_count": null,
   "metadata": {
    "collapsed": true,
    "deletable": true,
    "editable": true
   },
   "outputs": [],
   "source": [
    "import numpy as np\n",
    "tiny = 100*np.finfo(float).eps"
   ]
  },
  {
   "cell_type": "code",
   "execution_count": null,
   "metadata": {
    "collapsed": false,
    "deletable": true,
    "editable": true
   },
   "outputs": [],
   "source": [
    "N = 5\n",
    "A = np.matrix([[np.float(np.random.randint(-10,10)) for i in range(N)] for j in range(N)])\n",
    "u = np.matrix(np.zeros((N,N)))\n",
    "q = np.matrix(np.zeros((N,N)))\n",
    "R = np.matrix(np.zeros((N,N)))\n",
    "A"
   ]
  },
  {
   "cell_type": "markdown",
   "metadata": {},
   "source": [
    "#### Col-space"
   ]
  },
  {
   "cell_type": "code",
   "execution_count": null,
   "metadata": {
    "collapsed": false,
    "deletable": true,
    "editable": true
   },
   "outputs": [],
   "source": [
    "col = [A.T[i] for i in range(N)]\n",
    "col"
   ]
  },
  {
   "cell_type": "markdown",
   "metadata": {
    "deletable": true,
    "editable": true
   },
   "source": [
    "#### Gram-Schmidt"
   ]
  },
  {
   "cell_type": "code",
   "execution_count": null,
   "metadata": {
    "collapsed": true,
    "deletable": true,
    "editable": true
   },
   "outputs": [],
   "source": [
    "def proj(u,a):\n",
    "    unit = u/np.sqrt(np.dot(u,u.T)[0,0])\n",
    "    return np.dot(a,unit.T)[0,0]*unit"
   ]
  },
  {
   "cell_type": "code",
   "execution_count": null,
   "metadata": {
    "collapsed": false,
    "deletable": true,
    "editable": true
   },
   "outputs": [],
   "source": [
    "for i in range(N):\n",
    "    u[i] = col[i]\n",
    "    for j in range(i):\n",
    "        u[i] -= proj(u[j],col[i])\n",
    "    q[i] = u[i]/np.sqrt(np.dot(u[i],u[i].T)[0,0])"
   ]
  },
  {
   "cell_type": "markdown",
   "metadata": {
    "deletable": true,
    "editable": true
   },
   "source": [
    "#### Verify"
   ]
  },
  {
   "cell_type": "code",
   "execution_count": null,
   "metadata": {
    "collapsed": false,
    "deletable": true,
    "editable": true
   },
   "outputs": [],
   "source": [
    "B = np.matrix(np.zeros((N,N)))\n",
    "BB = np.matrix([[np.dot(q[i],q[j].T)[0,0] for i in range(N)] for j in range(N)])\n",
    "for i in range(N):\n",
    "    for j in range(N):\n",
    "        if BB[i,j]<tiny:\n",
    "            B[i,j] = 0\n",
    "        else:\n",
    "            B[i,j] = BB[i,j]\n",
    "B"
   ]
  },
  {
   "cell_type": "code",
   "execution_count": null,
   "metadata": {
    "collapsed": false
   },
   "outputs": [],
   "source": [
    "q"
   ]
  },
  {
   "cell_type": "markdown",
   "metadata": {},
   "source": [
    "#### Define R and Q"
   ]
  },
  {
   "cell_type": "code",
   "execution_count": null,
   "metadata": {
    "collapsed": false,
    "deletable": true,
    "editable": true
   },
   "outputs": [],
   "source": [
    "# R is the components of the column vector in the \"q\" basis\n",
    "for i in range(N):\n",
    "    for j in range(i+1):\n",
    "        R[j,i] = np.dot(q[j],col[i].T)[0,0]\n",
    "# Since the columns of q should be these vectors, not the rows we have to take the transpose\n",
    "Q = q.T"
   ]
  },
  {
   "cell_type": "markdown",
   "metadata": {},
   "source": [
    "#### Test"
   ]
  },
  {
   "cell_type": "code",
   "execution_count": null,
   "metadata": {
    "collapsed": false
   },
   "outputs": [],
   "source": [
    "AA = np.matrix(np.zeros((N,N)))\n",
    "for i in range(N):\n",
    "    for j in range(N):\n",
    "        if (np.dot(Q,R) - A)[i,j] < tiny:\n",
    "            AA[i,j] = 0\n",
    "        else:\n",
    "            AA[i,j] = (np.dot(Q,R) - A)[i,j]\n",
    "AA"
   ]
  },
  {
   "cell_type": "markdown",
   "metadata": {},
   "source": [
    "### QR Algorithm"
   ]
  },
  {
   "cell_type": "code",
   "execution_count": null,
   "metadata": {
    "collapsed": true
   },
   "outputs": [],
   "source": [
    "def QRfactor(A):\n",
    "    # Find Columns\n",
    "    col = [A.T[i] for i in range(N)]\n",
    "    # Define Projection Map\n",
    "    def proj(u,a):\n",
    "        unit = u/np.sqrt(np.dot(u,u.T)[0,0])\n",
    "        return np.dot(a,unit.T)[0,0]*unit\n",
    "    # Find the Orthogonal Matrix Via Gram-Schmidt\n",
    "    for i in range(N):\n",
    "        u[i] = col[i]\n",
    "        for j in range(i):\n",
    "            u[i] -= proj(u[j],col[i])\n",
    "        q[i] = u[i]/np.sqrt(np.dot(u[i],u[i].T)[0,0])\n",
    "    # Define Q and R\n",
    "    for i in range(N):\n",
    "        for j in range(i+1):\n",
    "            R[j,i] = np.dot(q[j],col[i].T)[0,0]\n",
    "    Q = q.T\n",
    "    return Q,R"
   ]
  },
  {
   "cell_type": "markdown",
   "metadata": {},
   "source": [
    "### Test"
   ]
  },
  {
   "cell_type": "code",
   "execution_count": null,
   "metadata": {
    "collapsed": false
   },
   "outputs": [],
   "source": [
    "AA = np.matrix(np.zeros((N,N)))\n",
    "for i in range(N):\n",
    "    for j in range(N):\n",
    "        if (np.dot(QRfactor(A)[0],QRfactor(A)[1]) - A)[i,j] < tiny:\n",
    "            AA[i,j] = 0\n",
    "        else:\n",
    "            AA[i,j] = (np.dot(QRfactor(A)[0],QRfactor(A)[1]) - A)[i,j]\n",
    "AA"
   ]
  },
  {
   "cell_type": "markdown",
   "metadata": {},
   "source": [
    "#### The Algorithm (Real)"
   ]
  },
  {
   "cell_type": "code",
   "execution_count": null,
   "metadata": {
    "collapsed": false
   },
   "outputs": [],
   "source": [
    "A = np.matrix(np.zeros((N,N)))\n",
    "for i in range(N):\n",
    "    for j in range(N):\n",
    "        if i==j:\n",
    "            A[i,j] = np.float(np.random.randint(1,100))\n",
    "        else:\n",
    "            A[i,j] = 0\n",
    "\n",
    "B = np.matrix([[np.float(np.random.randint(-N,N)) for i in range(N)] for j in range(N)])\n",
    "print \"A is\"\n",
    "print A\n",
    "print \"B is\"\n",
    "print B\n",
    "A = np.dot(np.linalg.inv(B),np.dot(A,B))\n",
    "print \"A = B^-1 A B is\"\n",
    "print A\n",
    "print \"The Eigenvalues are still\"\n",
    "print np.linalg.eigvals(A)"
   ]
  },
  {
   "cell_type": "code",
   "execution_count": null,
   "metadata": {
    "collapsed": false
   },
   "outputs": [],
   "source": [
    "for i in range(1000):\n",
    "    Q,R = QRfactor(A)\n",
    "    A = np.dot(R,Q)"
   ]
  },
  {
   "cell_type": "code",
   "execution_count": null,
   "metadata": {
    "collapsed": false
   },
   "outputs": [],
   "source": [
    "AA = np.matrix(np.zeros((N,N)))\n",
    "for i in range(N):\n",
    "    for j in range(N):\n",
    "        if (A[i,j] < tiny):\n",
    "            AA[i,j] = 0\n",
    "        else:\n",
    "            AA[i,j] = A[i,j]\n",
    "AA"
   ]
  },
  {
   "cell_type": "code",
   "execution_count": null,
   "metadata": {
    "collapsed": false
   },
   "outputs": [],
   "source": [
    "for i in range(N):\n",
    "    print AA[i,i]\n",
    "print np.linalg.eigvals(A)"
   ]
  }
 ],
 "metadata": {
  "kernelspec": {
   "display_name": "Python 2",
   "language": "python",
   "name": "python2"
  },
  "language_info": {
   "codemirror_mode": {
    "name": "ipython",
    "version": 2
   },
   "file_extension": ".py",
   "mimetype": "text/x-python",
   "name": "python",
   "nbconvert_exporter": "python",
   "pygments_lexer": "ipython2",
   "version": "2.7.9"
  }
 },
 "nbformat": 4,
 "nbformat_minor": 2
}
