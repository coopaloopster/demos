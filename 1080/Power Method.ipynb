{
 "cells": [
  {
   "cell_type": "code",
   "execution_count": null,
   "metadata": {
    "collapsed": false,
    "deletable": true,
    "editable": true
   },
   "outputs": [],
   "source": [
    "%matplotlib inline\n",
    "import matplotlib as mpl\n",
    "import matplotlib.pyplot as plt\n",
    "from mpl_toolkits.mplot3d import Axes3D\n",
    "import numpy as np"
   ]
  },
  {
   "cell_type": "markdown",
   "metadata": {
    "deletable": true,
    "editable": true
   },
   "source": [
    "\\begin{equation*}\n",
    "\\textbf{y}' = \n",
    "\\begin{pmatrix} \n",
    "1 & 4 \\\\\n",
    "2 & -1 \n",
    "\\end{pmatrix}\n",
    "\\textbf{y}\n",
    "\\end{equation*}"
   ]
  },
  {
   "cell_type": "code",
   "execution_count": null,
   "metadata": {
    "collapsed": true,
    "deletable": true,
    "editable": true
   },
   "outputs": [],
   "source": [
    "def rk4_sys(t0,tf,y0,v0,yp,vp,N):\n",
    "    ts = [t0]\n",
    "    ys = [y0]\n",
    "    vs = [v0]\n",
    "    delta = (tf - t0)/float(N)\n",
    "    hd = delta/2\n",
    "    for i in range(N):\n",
    "        y0temp = y0\n",
    "        s1 = yp(t0,y0,v0)\n",
    "        s2 = yp(t0 + hd,y0 + hd*s1,v0)\n",
    "        s3 = yp(t0 + hd,y0 + hd*s2,v0)\n",
    "        s4 = yp(t0 + delta,y0 + delta*s3,v0)        \n",
    "        y0 += delta*(s1 + 2*s2 + 2*s3 + s4)/6\n",
    "        s1 = vp(t0,y0temp,v0)\n",
    "        s2 = vp(t0 + hd,y0temp,v0 + hd*s1)\n",
    "        s3 = vp(t0 + hd,y0temp,v0 + hd*s2)\n",
    "        s4 = vp(t0 + delta,y0temp,v0 + delta*s3)        \n",
    "        v0 += delta*(s1 + 2*s2 + 2*s3 + s4)/6\n",
    "        t0 += delta\n",
    "        ts = np.append(ts,t0)\n",
    "        ys = np.append(ys,y0)\n",
    "        vs = np.append(vs,v0)\n",
    "    return ts, ys, vs"
   ]
  },
  {
   "cell_type": "code",
   "execution_count": null,
   "metadata": {
    "collapsed": true,
    "deletable": true,
    "editable": true
   },
   "outputs": [],
   "source": [
    "N = 10000\n",
    "t0 = 0\n",
    "tf = .7\n",
    "y10 = -8\n",
    "y20 = 10\n",
    "def y1p(t,y1,y2):\n",
    "    return y1 + 4*y2\n",
    "def y2p(t,y1,y2):\n",
    "    return 2*y1 - y2"
   ]
  },
  {
   "cell_type": "code",
   "execution_count": null,
   "metadata": {
    "collapsed": false,
    "deletable": true,
    "editable": true
   },
   "outputs": [],
   "source": [
    "y1max = 10.0\n",
    "y1min = -10.0\n",
    "NY1 = 20\n",
    "y2max = 10.0\n",
    "y2min = -10.0\n",
    "NY2 = 20\n",
    "y1 = np.linspace(y1min,y1max,NY1)\n",
    "y2 = np.linspace(y2min,y2max,NY2)\n",
    "Y1, Y2 = np.meshgrid(y1, y2)\n",
    "y1comp = y1p(0,Y1,Y2)\n",
    "y2comp = y2p(0,Y1,Y2)\n",
    "QP = plt.quiver(Y1, Y2, y1comp, y2comp)\n",
    "plt.plot(y1,-y1)\n",
    "plt.plot(y1,.5*y1)"
   ]
  },
  {
   "cell_type": "markdown",
   "metadata": {
    "deletable": true,
    "editable": true
   },
   "source": [
    "### Power Method"
   ]
  },
  {
   "cell_type": "markdown",
   "metadata": {
    "deletable": true,
    "editable": true
   },
   "source": [
    "### Real"
   ]
  },
  {
   "cell_type": "code",
   "execution_count": null,
   "metadata": {
    "collapsed": false,
    "deletable": true,
    "editable": true
   },
   "outputs": [],
   "source": [
    "N = 5\n",
    "A = [[np.random.randint(-10,10) for i in range(N)] for j in range(N)]\n",
    "evals = np.linalg.eigvals(A)\n",
    "x0 = [np.random.randint(-1,1) for i in range(N)]\n",
    "evals"
   ]
  },
  {
   "cell_type": "code",
   "execution_count": null,
   "metadata": {
    "collapsed": false,
    "deletable": true,
    "editable": true
   },
   "outputs": [],
   "source": [
    "maxy,maxi = 0,0\n",
    "for i in range(N):\n",
    "    y = np.sqrt((evals[i].real)**2 + (evals[i].imag)**2)\n",
    "    if y > maxy:\n",
    "        maxy = y\n",
    "        maxi = i\n",
    "print maxi\n",
    "print maxy"
   ]
  },
  {
   "cell_type": "code",
   "execution_count": null,
   "metadata": {
    "collapsed": false,
    "deletable": true,
    "editable": true
   },
   "outputs": [],
   "source": [
    "x = x0\n",
    "for i in range(1000):\n",
    "    x = np.dot(A,x)\n",
    "    x = x/np.sqrt(np.dot(x,x))\n",
    "print np.dot(x,np.dot(A,x))"
   ]
  },
  {
   "cell_type": "markdown",
   "metadata": {
    "deletable": true,
    "editable": true
   },
   "source": [
    "### Complex"
   ]
  },
  {
   "cell_type": "code",
   "execution_count": null,
   "metadata": {
    "collapsed": false,
    "deletable": true,
    "editable": true
   },
   "outputs": [],
   "source": [
    "N = 5\n",
    "x = [complex(np.random.randint(-10,10),np.random.randint(-10,10)) for i in range(N)]\n",
    "x"
   ]
  },
  {
   "cell_type": "code",
   "execution_count": null,
   "metadata": {
    "collapsed": false,
    "deletable": true,
    "editable": true
   },
   "outputs": [],
   "source": [
    "for i in range(1000):\n",
    "    x = np.dot(A,x)\n",
    "    x = x/np.sqrt(np.dot(np.conjugate(x),x))\n",
    "print np.dot(np.conjugate(x),np.dot(A,x))"
   ]
  },
  {
   "cell_type": "code",
   "execution_count": null,
   "metadata": {
    "collapsed": false,
    "deletable": true,
    "editable": true
   },
   "outputs": [],
   "source": [
    "A = [[complex(np.random.randint(-3,3),np.random.randint(-3,3)) for i in range(N)] for k in range(N)]\n",
    "evals = np.linalg.eigvals(A)\n",
    "evals"
   ]
  },
  {
   "cell_type": "code",
   "execution_count": null,
   "metadata": {
    "collapsed": false,
    "deletable": true,
    "editable": true
   },
   "outputs": [],
   "source": [
    "maxy,maxi = 0,0\n",
    "for i in range(N):\n",
    "    y = np.sqrt((evals[i].real)**2 + (evals[i].imag)**2)\n",
    "    if y > maxy:\n",
    "        maxy = y\n",
    "        maxi = i\n",
    "print maxi\n",
    "print maxy"
   ]
  },
  {
   "cell_type": "code",
   "execution_count": null,
   "metadata": {
    "collapsed": false,
    "deletable": true,
    "editable": true
   },
   "outputs": [],
   "source": [
    "x = [complex(np.random.randint(-10,10),np.random.randint(-10,10)) for i in range(N)]\n",
    "x"
   ]
  },
  {
   "cell_type": "code",
   "execution_count": null,
   "metadata": {
    "collapsed": false,
    "deletable": true,
    "editable": true
   },
   "outputs": [],
   "source": [
    "for i in range(1000):\n",
    "    x = np.dot(A,x)\n",
    "    x = x/np.sqrt(np.dot(np.conjugate(x),x))\n",
    "print np.dot(np.conjugate(x),np.dot(A,x))"
   ]
  },
  {
   "cell_type": "markdown",
   "metadata": {},
   "source": [
    "### Inverse Power Method"
   ]
  },
  {
   "cell_type": "code",
   "execution_count": null,
   "metadata": {
    "collapsed": false
   },
   "outputs": [],
   "source": [
    "N = 5\n",
    "A = [[complex(np.random.randint(-3,3),np.random.randint(-3,3)) for i in range(N)] for k in range(N)]\n",
    "x = [complex(np.random.randint(-10,10),np.random.randint(-10,10)) for i in range(N)]\n",
    "evals = np.linalg.eigvals(A)\n",
    "evals"
   ]
  },
  {
   "cell_type": "code",
   "execution_count": null,
   "metadata": {
    "collapsed": false
   },
   "outputs": [],
   "source": [
    "j=0\n",
    "miny = 1000\n",
    "for i in range(N):\n",
    "    y = np.sqrt((evals[i].real)**2 + (evals[i].imag)**2)\n",
    "    if y < miny:\n",
    "        miny = y\n",
    "        minj = i\n",
    "print evals[minj]"
   ]
  },
  {
   "cell_type": "code",
   "execution_count": null,
   "metadata": {
    "collapsed": false
   },
   "outputs": [],
   "source": [
    "Ainv = np.linalg.inv(A)            # Probably not what you would do\n",
    "for i in range(100000):\n",
    "    x = np.dot(Ainv,x)\n",
    "    x = x/np.sqrt(np.dot(np.conjugate(x),x))\n",
    "max_inv = np.dot(np.conjugate(x),np.dot(Ainv,x))\n",
    "print 1/max_inv"
   ]
  },
  {
   "cell_type": "markdown",
   "metadata": {},
   "source": [
    "### Shift"
   ]
  },
  {
   "cell_type": "code",
   "execution_count": null,
   "metadata": {
    "collapsed": false
   },
   "outputs": [],
   "source": [
    "N = 5\n",
    "A = [[complex(np.random.randint(-3,3),np.random.randint(-3,3)) for i in range(N)] for k in range(N)]\n",
    "x = [complex(np.random.randint(-10,10),np.random.randint(-10,10)) for i in range(N)]\n",
    "evals = np.linalg.eigvals(A)\n",
    "evals"
   ]
  },
  {
   "cell_type": "code",
   "execution_count": null,
   "metadata": {
    "collapsed": false
   },
   "outputs": [],
   "source": [
    "alpha = np.complex(.1,-4)\n",
    "alpha"
   ]
  },
  {
   "cell_type": "code",
   "execution_count": null,
   "metadata": {
    "collapsed": false
   },
   "outputs": [],
   "source": [
    "Ashift = A - alpha*np.identity(N)\n",
    "Ashift_inv = np.linalg.inv(Ashift)\n",
    "for i in range(1000):\n",
    "    x = np.dot(Ashift_inv,x)\n",
    "    x = x/np.sqrt(np.dot(np.conjugate(x),x))\n",
    "max_inv = np.dot(np.conjugate(x),np.dot(Ashift_inv,x))\n",
    "print alpha + 1/max_inv"
   ]
  },
  {
   "cell_type": "markdown",
   "metadata": {},
   "source": [
    "### Rayleigh Quotient Iteration"
   ]
  },
  {
   "cell_type": "code",
   "execution_count": null,
   "metadata": {
    "collapsed": false
   },
   "outputs": [],
   "source": [
    "N = 5\n",
    "A = [[complex(np.random.randint(-3,3),np.random.randint(-3,3)) for i in range(N)] for k in range(N)]\n",
    "x = [complex(np.random.randint(-10,10),np.random.randint(-10,10)) for i in range(N)]\n",
    "evals = np.linalg.eigvals(A)\n",
    "evals"
   ]
  },
  {
   "cell_type": "code",
   "execution_count": null,
   "metadata": {
    "collapsed": false
   },
   "outputs": [],
   "source": [
    "lamb = np.complex(4.,-1.)\n",
    "for i in range(100):\n",
    "        x = np.dot(np.linalg.inv(A - lamb*np.identity(N)),x)\n",
    "        x = x/np.sqrt(np.dot(np.conjugate(x),x))\n",
    "        lamb = np.dot(np.conjugate(x),np.dot(A,x))\n",
    "print lamb"
   ]
  }
 ],
 "metadata": {
  "kernelspec": {
   "display_name": "Python 2",
   "language": "python",
   "name": "python2"
  },
  "language_info": {
   "codemirror_mode": {
    "name": "ipython",
    "version": 2
   },
   "file_extension": ".py",
   "mimetype": "text/x-python",
   "name": "python",
   "nbconvert_exporter": "python",
   "pygments_lexer": "ipython2",
   "version": "2.7.9"
  }
 },
 "nbformat": 4,
 "nbformat_minor": 2
}
